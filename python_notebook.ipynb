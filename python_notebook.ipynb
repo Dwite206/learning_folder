{
 "metadata": {
  "language_info": {
   "codemirror_mode": {
    "name": "ipython",
    "version": 3
   },
   "file_extension": ".py",
   "mimetype": "text/x-python",
   "name": "python",
   "nbconvert_exporter": "python",
   "pygments_lexer": "ipython3",
   "version": "3.8.7-final"
  },
  "orig_nbformat": 2,
  "kernelspec": {
   "name": "python3",
   "display_name": "Python 3.8.7 64-bit",
   "metadata": {
    "interpreter": {
     "hash": "0075a54dc3a5de09907b38ea9a0ef7371c7a94f60e42f23958cb8788a209d737"
    }
   }
  }
 },
 "nbformat": 4,
 "nbformat_minor": 2,
 "cells": [
  {
   "source": [
    "Az object oriented programing 4 alapzata a következő : \n",
    "- Encapsulation (egységbezárás)     # Az a fogalom ami összeköti az Adatot(data types) a Funkciókkal amik befolyásolják az adatot.\n",
    "- Abstraction (elrejtés)            # Az adatok elrejtése, úgy hogy csak a lényeges információt jutassuk el a felhasználóhoz\n",
    "- Inheritance (leszármaztatás)      # Amikor létrehozunk egy úgynevezett \"Szülő\" osztály-t('class') létrehozhatunk \"Gyerek\" osztály-t, ami a \"Szülő\" minden tulajdonságát megörökli, és azt kiegészíthetjük új tulajdonságokkal.\n",
    "- Polymorphism (polimorfizmus)      # Poli(Sok), Morph(Alak) Ha létrehozunk még egy osztály-t('class) és ahoz is kapcsolunk egy (self.name, self.age) változót, akkor a kettő egymástól függetlenül működik, hiába azonos a nevük."
   ],
   "cell_type": "code",
   "metadata": {},
   "execution_count": null,
   "outputs": []
  },
  {
   "source": [
    "Encapsulation (egysébezárás) pl: \n",
    "\n",
    "class PlayerCharacter:     # <---- Metódus ami össze van kötve a saját Változóival\n",
    "    def __init__(self, name, age):\n",
    "        self.name = name   # <---- Ez az adat mostmár össze van kötve a PlayerCharacter name Változójával\n",
    "        self.age = age     # <---- Ez az adat mostmár össze van kötve a PlayerCharacter age Változójával\n",
    "\n",
    "#Ezek után, ha létrehozunk egy Funkciót ami a \"speak\".\n",
    "def speak(self): #<---- Funkció\n",
    "    print(f'A nevem {self.name}, és én {self.age} éves vagyok!') # <---- Kiírhatjuk egy mondatba, a nevünket és az életkorunkat."
   ],
   "cell_type": "code",
   "metadata": {},
   "execution_count": null,
   "outputs": []
  },
  {
   "source": [
    "Fibonacci számsor-t két féle kép tudom elkészíteni. \n",
    "- Listába szedem, majd a .append() kifejezéssel, egymás után helyezem a számokat.\n",
    "- Vagy a yield kifejezést használom, ami nem szedi listába, hanem minden megkapott szám után megállítja a loop-ot, és kiírja\n",
    "\n",
    "def fib(number):\n",
    "    num1 = 0\n",
    "    num2 = 1\n",
    "    result = [] #<---- Memóriát használ, ez a módszer\n",
    "    for i in range(number):\n",
    "        result.append(num1)\n",
    "        temp = num1\n",
    "        num1 = num2\n",
    "        num2 = temp + num2\n",
    "    return result\n",
    "\n",
    "print(fib(21)) #<--- kiírja az első 20 számot\n",
    "\n",
    "def fib(number):\n",
    "    num1 = 0\n",
    "    num2 = 1\n",
    "    for i in range(number):\n",
    "        yield num1          #<--- Rövidebb program, és nem foglal memóriában helyet\n",
    "        temp = num1\n",
    "        num1 = num2\n",
    "        num2 = temp + num2\n",
    "\n",
    "for nums in fib(20):\n",
    "    print(nums) #<--- kiírja az első 20 számot"
   ],
   "cell_type": "code",
   "metadata": {},
   "execution_count": null,
   "outputs": []
  },
  {
   "source": [
    "#A jelszó generátorhoz egyszerű kód: \n",
    "\n",
    "#Kritérium: Első karakter Nagy betű, tartalmazhat számot, -kis, -nagybetűt és legalább 8 karakter hosszú.\n",
    "password = input('Adj meg egy jelszót a kritériumnak megfelelően:  ')\n",
    "re.fullmatch(r'^[A-Z][A-Za-z0-9$%#@]{8,}', password):\n",
    "\n",
    "\n",
    "#A használatához importálni kell a 're' könyvtárat mint (regular expressions)"
   ],
   "cell_type": "code",
   "metadata": {},
   "execution_count": null,
   "outputs": []
  },
  {
   "source": [
    "# Alapvető debugging a \n",
    "try:    #Ide beírhatjuk amit szeretnénk megpróbálni, hogy futasson le.\n",
    "except: #Ide beírhatjuk a Hibakódot ami helyett szeretnénk mást kiíratni.\n",
    "\n",
    "#pl(except TypeError:\n",
    "#       print('Ne haasználj különböző Adat típust') ).\n"
   ],
   "cell_type": "code",
   "metadata": {},
   "execution_count": null,
   "outputs": []
  },
  {
   "source": [
    "Pillow library to process images.\n",
    "img formats, filters, resize, everything related to img processing. \n",
    "wokrs really well with the os , sys library.\n",
    "see JPEGtoPNGconverter.py"
   ],
   "cell_type": "code",
   "metadata": {},
   "execution_count": null,
   "outputs": []
  },
  {
   "cell_type": "code",
   "execution_count": null,
   "metadata": {},
   "outputs": [],
   "source": [
    "OpenCV is also an image processing library but its improved to be used on AI-s as well. \n",
    "Seems alright might check it later. \n",
    "There is a huge power behind this library. \n"
   ]
  },
  {
   "cell_type": "code",
   "execution_count": null,
   "metadata": {},
   "outputs": [],
   "source": [
    "I checked out a library to read pdf-s and to merge them together.\n",
    "it wasnt that interesting. I almost skipped it, but at the end i finished that as well. \n",
    "Im not really sure if i ever want to use it.\n",
    "Andrei told us that it mainly used by publishers and Hollywood to watermark stuff. \n",
    "Dont know whats the power of the library.\n",
    "\n",
    "the name is PyPDF2"
   ]
  },
  {
   "cell_type": "code",
   "execution_count": null,
   "metadata": {},
   "outputs": [],
   "source": [
    "i should spend a little time to understand more througly the hashlib. \n",
    "The password checker is very cool. \n",
    "btw getting really conftable with git. i should try to contribute on github."
   ]
  }
 ]
}